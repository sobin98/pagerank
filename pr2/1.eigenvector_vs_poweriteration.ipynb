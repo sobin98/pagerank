{
 "cells": [
  {
   "cell_type": "code",
   "execution_count": 23,
   "id": "c55817b5",
   "metadata": {},
   "outputs": [],
   "source": [
    "import networkx as nx\n",
    "import numpy as np\n",
    "\n",
    "#그래프를 생성하는 부분 n:노트개수 m:새롭게 추가되는 node와 기존 node들 사이에 생성되는 edge의 개수\n",
    "def gen_webgraph(n, m):\n",
    "    G = nx.DiGraph(nx.barabasi_albert_graph(n,m))\n",
    "    rands = np.random.choice(n, n//2, replace=False)\n",
    "    G.remove_edges_from(np.array(G.edges)[rands])\n",
    "    return G\n",
    "\n",
    "#그래프를 받아 구글 매트릭스 받는부분\n",
    "def get_google_matrix(G, d=0.15):\n",
    "    n = G.number_of_nodes()\n",
    "    A = nx.to_numpy_array(G).T\n",
    "    # for sink nodes\n",
    "    is_sink = np.sum(A, axis=0)==0\n",
    "    B = (np.ones_like(A) - np.identity(n)) / (n-1)\n",
    "    A[:, is_sink] += B[:, is_sink]\n",
    "    \n",
    "    D_inv = np.diag(1/np.sum(A, axis=0))\n",
    "    M = np.dot(A, D_inv) \n",
    "    \n",
    "    # for disconnected components\n",
    "    M = (1-d)*M + d*np.ones((n,n))/n\n",
    "    return M\n",
    "\n",
    "def l1(x):\n",
    "    return np.sum(np.abs(x))\n",
    "\n",
    "#고유벡터로 페이지랭크 구하는 함수\n",
    "def pagerank_edc(G, d=0.15):\n",
    "    M = get_google_matrix(G, d=d)\n",
    "    eigenvalues, eigenvectors = np.linalg.eig(M)\n",
    "    idx = eigenvalues.argsort()[-1]\n",
    "    largest = np.array(eigenvectors[:,idx]).flatten().real\n",
    "    return largest / l1(largest)\n",
    "\n",
    "#power iteration method로 페이지랭크 구하는 함수\n",
    "def pagerank_power(G, d=0.15, max_iter=100, eps=1e-9):\n",
    "    M = get_google_matrix(G, d=d)\n",
    "    n = G.number_of_nodes()\n",
    "    V = np.ones(n)/n\n",
    "    for _ in range(max_iter):\n",
    "        V_last = V\n",
    "        V = np.dot(M, V)\n",
    "        if  l1(V-V_last)/n < eps:\n",
    "            return V\n",
    "    return V\n",
    "\n",
    "input_size=[5,200,400,800,1600,3200]"
   ]
  },
  {
   "cell_type": "markdown",
   "id": "0470f1e7",
   "metadata": {},
   "source": [
    "# 고유벡터로 구하는법\n",
    "\n",
    "주어진 그래프로 확률론적 인접행렬을 구할수 있다. \n",
    "\n",
    "구한 확률론적 인접행렬이 M일때, 구글행렬 G는 \n",
    "\n",
    "G=dM+(1-d)E (d는 보통 0.85)\n",
    "\n",
    "구글행렬의 고유벡터중 가장 큰값을 가지는 고유값를 이용(가장 큰 고유값는 1을 넘지 않음) \n",
    "\n",
    "가장큰 고유값에 대응하는 고유벡터인 dominant eigenvector가 pagerank가 됨"
   ]
  },
  {
   "cell_type": "code",
   "execution_count": 24,
   "id": "d817ddeb",
   "metadata": {},
   "outputs": [
    {
     "data": {
      "text/plain": [
       "[0.0023310184478759766,\n",
       " 0.06243491172790527,\n",
       " 0.1222081184387207,\n",
       " 0.8775279521942139,\n",
       " 4.620495319366455,\n",
       " 23.323164224624634]"
      ]
     },
     "execution_count": 24,
     "metadata": {},
     "output_type": "execute_result"
    }
   ],
   "source": [
    "import time\n",
    "time_edc=[]\n",
    "for i in range(6):\n",
    "    start=time.time()\n",
    "    pagerank_edc(gen_webgraph(input_size[i],3))\n",
    "    end=time.time()\n",
    "    time_edc.append(end-start)\n",
    "    \n",
    "time_edc"
   ]
  },
  {
   "cell_type": "markdown",
   "id": "26f580c1",
   "metadata": {},
   "source": [
    "# Power Iteration Method\n",
    "\n",
    "벡터 v를 1/N으로 모두 같게 초기화 시킨다 (N은 노드의 수, v=[1/N , 1/N, 1/N , ... 1/N])\n",
    "\n",
    "결정한 iteration수만큼 다음 식을 반복시킨다\n",
    "\n",
    "r_k+1=G*v_k (G는 구글행렬, v_k는 k번째의 v값)\n",
    "\n",
    "iteration만큼 반복한후 구한 r_k+1이 pagerank가 됨"
   ]
  },
  {
   "cell_type": "code",
   "execution_count": 25,
   "id": "d0f6b57d",
   "metadata": {},
   "outputs": [
    {
     "data": {
      "text/plain": [
       "[0.0010769367218017578,\n",
       " 0.008579730987548828,\n",
       " 0.056365013122558594,\n",
       " 0.045393943786621094,\n",
       " 0.1542649269104004,\n",
       " 0.7586979866027832]"
      ]
     },
     "execution_count": 25,
     "metadata": {},
     "output_type": "execute_result"
    }
   ],
   "source": [
    "time_power=[]\n",
    "for i in range(6):\n",
    "    start=time.time()\n",
    "    pagerank_power(gen_webgraph(input_size[i],3))\n",
    "    end=time.time()\n",
    "    time_power.append(end-start)\n",
    "    \n",
    "time_power"
   ]
  },
  {
   "cell_type": "code",
   "execution_count": 39,
   "id": "a76442e4",
   "metadata": {},
   "outputs": [
    {
     "data": {
      "image/png": "[encoded data removed]",
      "text/plain": [
       "<Figure size 432x288 with 1 Axes>"
      ]
     },
     "metadata": {
      "needs_background": "light"
     },
     "output_type": "display_data"
    }
   ],
   "source": [
    "import matplotlib.pyplot as plt\n",
    "plt.plot(input_size,time_edc,input_size,time_power)\n",
    "\n",
    "plt.xlabel('# of nodes')\n",
    "plt.ylabel('Time(s)')\n",
    "plt.title('eigenvector vs power iteration method\\n')\n",
    "\n",
    "plt.legend(['edc','power'])\n",
    "plt.show()"
   ]
  },
  {
   "cell_type": "code",
   "execution_count": null,
   "id": "69a0d589",
   "metadata": {},
   "outputs": [],
   "source": []
  }
 ],
 "metadata": {
  "kernelspec": {
   "display_name": "빅데이터처리",
   "language": "python",
   "name": "bigdata"
  },
  "language_info": {
   "codemirror_mode": {
    "name": "ipython",
    "version": 3
   },
   "file_extension": ".py",
   "mimetype": "text/x-python",
   "name": "python",
   "nbconvert_exporter": "python",
   "pygments_lexer": "ipython3",
   "version": "3.9.7"
  }
 },
 "nbformat": 4,
 "nbformat_minor": 5
}
