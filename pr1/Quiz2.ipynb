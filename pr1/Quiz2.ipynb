{
 "cells": [
  {
   "cell_type": "code",
   "execution_count": 1,
   "id": "00dbcd2f",
   "metadata": {},
   "outputs": [
    {
     "name": "stderr",
     "output_type": "stream",
     "text": [
      "21/10/29 02:14:31 WARN Utils: Your hostname, jeongsobin-ui-MacBookPro.local resolves to a loopback address: 127.0.0.1; using 172.30.1.53 instead (on interface en0)\n",
      "21/10/29 02:14:31 WARN Utils: Set SPARK_LOCAL_IP if you need to bind to another address\n",
      "WARNING: An illegal reflective access operation has occurred\n",
      "WARNING: Illegal reflective access by org.apache.spark.unsafe.Platform (file:/opt/homebrew/Cellar/apache-spark/3.1.2/libexec/jars/spark-unsafe_2.12-3.1.2.jar) to constructor java.nio.DirectByteBuffer(long,int)\n",
      "WARNING: Please consider reporting this to the maintainers of org.apache.spark.unsafe.Platform\n",
      "WARNING: Use --illegal-access=warn to enable warnings of further illegal reflective access operations\n",
      "WARNING: All illegal access operations will be denied in a future release\n",
      "21/10/29 02:14:32 WARN NativeCodeLoader: Unable to load native-hadoop library for your platform... using builtin-java classes where applicable\n",
      "Using Spark's default log4j profile: org/apache/spark/log4j-defaults.properties\n",
      "Setting default log level to \"WARN\".\n",
      "To adjust logging level use sc.setLogLevel(newLevel). For SparkR, use setLogLevel(newLevel).\n",
      "21/10/29 02:14:34 WARN Utils: Service 'SparkUI' could not bind on port 4040. Attempting port 4041.\n"
     ]
    }
   ],
   "source": [
    "import findspark\n",
    "from timeit import default_timer as timer\n",
    "from datetime import timedelta\n",
    "findspark.init()\n",
    "\n",
    "from pyspark import SparkContext\n",
    "sc=SparkContext(\"local\",\"quiz2\")"
   ]
  },
  {
   "cell_type": "code",
   "execution_count": 2,
   "id": "d7d7d57d",
   "metadata": {},
   "outputs": [],
   "source": [
    "import numpy as np\n",
    "import math\n",
    "def create_dataset(N, D=2, minival=[0,0], maxval=[1,1]):\n",
    "    #D차원 벡터 N개를 생성\n",
    "    \n",
    "    dataset=np.zeros((N,D+1))\n",
    "    \n",
    "    dataset[:,0]=np.arange(N,dtype='int')\n",
    "    \n",
    "    for i in range(D):\n",
    "        vec=np.random.rand(N)*maxval[i]-minival[i]+minival[i]\n",
    "        dataset[:,i+1]=vec\n",
    "        \n",
    "    return dataset\n",
    "\n",
    "def compare(x,y):\n",
    "    if x<y:\n",
    "        return x\n",
    "    else:\n",
    "        return y\n",
    "\n",
    "def dist(x1, y1, x2, y2):\n",
    "    return math.sqrt((x1 - x2) ** 2 + (y1 - y2) ** 2)"
   ]
  },
  {
   "cell_type": "markdown",
   "id": "fe4bed07",
   "metadata": {},
   "source": [
    "# 블럭1개"
   ]
  },
  {
   "cell_type": "code",
   "execution_count": 3,
   "id": "0213df1c",
   "metadata": {},
   "outputs": [],
   "source": [
    "g1tod200=sc.parallelize(create_dataset(200))\n",
    "g1tod200_result=g1tod200.cartesian(g1tod200).map(lambda x:[(x[0][0],x[1][0]),dist(x[0][1],x[0][2],x[1][1],x[1][2])]).filter(lambda x:x[1]<0.01 and x[1]>0)\n",
    "\n",
    "g1tod400=sc.parallelize(create_dataset(400))\n",
    "g1tod400_result=g1tod400.cartesian(g1tod400).map(lambda x:[(x[0][0],x[1][0]),dist(x[0][1],x[0][2],x[1][1],x[1][2])]).filter(lambda x:x[1]<0.01 and x[1]>0)\n",
    "\n",
    "\n",
    "g1tod800=sc.parallelize(create_dataset(800))\n",
    "g1tod800_result=g1tod800.cartesian(g1tod800).map(lambda x:[(x[0][0],x[1][0]),dist(x[0][1],x[0][2],x[1][1],x[1][2])]).filter(lambda x:x[1]<0.01 and x[1]>0)\n",
    "\n",
    "\n",
    "g1tod1600=sc.parallelize(create_dataset(1600))\n",
    "g1tod1600_result=g1tod1600.cartesian(g1tod1600).map(lambda x:[(x[0][0],x[1][0]),dist(x[0][1],x[0][2],x[1][1],x[1][2])]).filter(lambda x:x[1]<0.01 and x[1]>0)\n",
    "\n"
   ]
  },
  {
   "cell_type": "code",
   "execution_count": 12,
   "id": "139fb288",
   "metadata": {},
   "outputs": [
    {
     "name": "stdout",
     "output_type": "stream",
     "text": [
      "CPU times: user 2.12 ms, sys: 2.77 ms, total: 4.89 ms\n",
      "Wall time: 184 ms\n"
     ]
    },
    {
     "data": {
      "text/plain": [
       "9.0"
      ]
     },
     "execution_count": 12,
     "metadata": {},
     "output_type": "execute_result"
    }
   ],
   "source": [
    "%time g1tod200_result.count()/2"
   ]
  },
  {
   "cell_type": "code",
   "execution_count": 13,
   "id": "3c013614",
   "metadata": {},
   "outputs": [
    {
     "name": "stdout",
     "output_type": "stream",
     "text": [
      "CPU times: user 2.33 ms, sys: 1.45 ms, total: 3.78 ms\n",
      "Wall time: 266 ms\n"
     ]
    },
    {
     "data": {
      "text/plain": [
       "28.0"
      ]
     },
     "execution_count": 13,
     "metadata": {},
     "output_type": "execute_result"
    }
   ],
   "source": [
    "%time g1tod400_result.count()/2"
   ]
  },
  {
   "cell_type": "code",
   "execution_count": 14,
   "id": "43179221",
   "metadata": {},
   "outputs": [
    {
     "name": "stdout",
     "output_type": "stream",
     "text": [
      "CPU times: user 2.29 ms, sys: 1.85 ms, total: 4.14 ms\n",
      "Wall time: 737 ms\n"
     ]
    },
    {
     "name": "stderr",
     "output_type": "stream",
     "text": [
      "\r",
      "[Stage 10:>                                                         (0 + 1) / 1]\r",
      "\r",
      "                                                                                \r"
     ]
    },
    {
     "data": {
      "text/plain": [
       "113.0"
      ]
     },
     "execution_count": 14,
     "metadata": {},
     "output_type": "execute_result"
    }
   ],
   "source": [
    "%time g1tod800_result.count()/2"
   ]
  },
  {
   "cell_type": "code",
   "execution_count": 15,
   "id": "51c22c4b",
   "metadata": {},
   "outputs": [
    {
     "name": "stderr",
     "output_type": "stream",
     "text": [
      "\r",
      "[Stage 11:>                                                         (0 + 1) / 1]\r"
     ]
    },
    {
     "name": "stdout",
     "output_type": "stream",
     "text": [
      "CPU times: user 2.68 ms, sys: 3.35 ms, total: 6.03 ms\n",
      "Wall time: 2.81 s\n"
     ]
    },
    {
     "name": "stderr",
     "output_type": "stream",
     "text": [
      "\r",
      "                                                                                \r"
     ]
    },
    {
     "data": {
      "text/plain": [
       "378.0"
      ]
     },
     "execution_count": 15,
     "metadata": {},
     "output_type": "execute_result"
    }
   ],
   "source": [
    "%time g1tod1600_result.count()/2"
   ]
  },
  {
   "cell_type": "markdown",
   "id": "5d53dcc7",
   "metadata": {},
   "source": [
    "# 블럭2개"
   ]
  },
  {
   "cell_type": "code",
   "execution_count": 8,
   "id": "cb88023d",
   "metadata": {},
   "outputs": [],
   "source": [
    "def make2group(x):\n",
    "    if int(x[0])%2==0:\n",
    "        return np.array([0,x[1],x[2]]).tolist()\n",
    "    else:\n",
    "        return np.array([1,x[1],x[2]]).tolist()\n",
    "    \n",
    "g2tod200=sc.parallelize(create_dataset(200)).map(make2group) \n",
    "g2tod400=sc.parallelize(create_dataset(200)).map(make2group) \n",
    "g2tod800=sc.parallelize(create_dataset(200)).map(make2group)\n",
    "g2tod1600=sc.parallelize(create_dataset(200)).map(make2group)"
   ]
  },
  {
   "cell_type": "markdown",
   "id": "89f63e3e",
   "metadata": {},
   "source": [
    "## data 200개"
   ]
  },
  {
   "cell_type": "code",
   "execution_count": 11,
   "id": "16a24f5e",
   "metadata": {},
   "outputs": [],
   "source": [
    "g2val0_200=g2tod200.map(lambda x:[(int(x[0])),[x[1],x[2]]]).groupByKey().mapValues(list).filter(lambda x:x[0]==0).flatMap(lambda x:np.array(x[1]))\n",
    "g2val1_200=g2tod200.map(lambda x:[(int(x[0])),[x[1],x[2]]]).groupByKey().mapValues(list).filter(lambda x:x[0]==1).flatMap(lambda x:np.array(x[1]))\n",
    "g2_0_0_200=g2val0_200.cartesian(g2val0_200)\n",
    "g2_0_1_200=g2val0_200.cartesian(g2val1_200)\n",
    "g2_1_1_200=g2val1_200.cartesian(g2val1_200)"
   ]
  },
  {
   "cell_type": "markdown",
   "id": "5f96406f",
   "metadata": {},
   "source": [
    "data 200개일때의 threshold=0.6 이하의 거리를 가지는 순서쌍들의 개수와 실행시간 출력"
   ]
  },
  {
   "cell_type": "code",
   "execution_count": 14,
   "id": "a9ce1284",
   "metadata": {},
   "outputs": [
    {
     "name": "stderr",
     "output_type": "stream",
     "text": [
      "/opt/homebrew/Cellar/apache-spark/3.1.2/libexec/python/lib/pyspark.zip/pyspark/shuffle.py:60: UserWarning: Please install psutil to have better support with spilling\n"
     ]
    },
    {
     "name": "stdout",
     "output_type": "stream",
     "text": [
      "CPU times: user 8.26 ms, sys: 8 ms, total: 16.3 ms\n",
      "Wall time: 1.26 s\n"
     ]
    },
    {
     "data": {
      "text/plain": [
       "4.0"
      ]
     },
     "execution_count": 14,
     "metadata": {},
     "output_type": "execute_result"
    }
   ],
   "source": [
    "%time g2_0_0_200.map(lambda x:dist(x[0][0],x[0][1],x[1][0],x[1][1])).filter(lambda x:x<0.01 and x>0).count()/2+g2_0_1_200.map(lambda x:dist(x[0][0],x[0][1],x[1][0],x[1][1])).filter(lambda x:x<0.01 and x>0).count()+g2_1_1_200.map(lambda x:dist(x[0][0],x[0][1],x[1][0],x[1][1])).filter(lambda x:x<0.01 and x>0).count()/2"
   ]
  },
  {
   "cell_type": "markdown",
   "id": "205224ad",
   "metadata": {},
   "source": [
    "## data 400개"
   ]
  },
  {
   "cell_type": "code",
   "execution_count": 15,
   "id": "b5744236",
   "metadata": {},
   "outputs": [],
   "source": [
    "g2val0_400=g2tod400.map(lambda x:[(int(x[0])),[x[1],x[2]]]).groupByKey().mapValues(list).filter(lambda x:x[0]==0).flatMap(lambda x:np.array(x[1]))\n",
    "g2val1_400=g2tod400.map(lambda x:[(int(x[0])),[x[1],x[2]]]).groupByKey().mapValues(list).filter(lambda x:x[0]==1).flatMap(lambda x:np.array(x[1]))\n",
    "g2_0_0_400=g2val0_400.cartesian(g2val0_400)\n",
    "g2_0_1_400=g2val0_400.cartesian(g2val1_400)\n",
    "g2_1_1_400=g2val1_400.cartesian(g2val1_400)"
   ]
  },
  {
   "cell_type": "markdown",
   "id": "30a8e161",
   "metadata": {},
   "source": [
    "data 400개일때의 threshold=0.6 이하의 거리를 가지는 순서쌍들의 개수와 실행시간 출력"
   ]
  },
  {
   "cell_type": "code",
   "execution_count": 16,
   "id": "30e3cc80",
   "metadata": {},
   "outputs": [
    {
     "name": "stderr",
     "output_type": "stream",
     "text": [
      "/opt/homebrew/Cellar/apache-spark/3.1.2/libexec/python/lib/pyspark.zip/pyspark/shuffle.py:60: UserWarning: Please install psutil to have better support with spilling\n",
      "/opt/homebrew/Cellar/apache-spark/3.1.2/libexec/python/lib/pyspark.zip/pyspark/shuffle.py:60: UserWarning: Please install psutil to have better support with spilling\n"
     ]
    },
    {
     "name": "stdout",
     "output_type": "stream",
     "text": [
      "CPU times: user 9.05 ms, sys: 11.3 ms, total: 20.4 ms\n",
      "Wall time: 1.41 s\n"
     ]
    },
    {
     "name": "stderr",
     "output_type": "stream",
     "text": [
      "/opt/homebrew/Cellar/apache-spark/3.1.2/libexec/python/lib/pyspark.zip/pyspark/shuffle.py:60: UserWarning: Please install psutil to have better support with spilling\n"
     ]
    },
    {
     "data": {
      "text/plain": [
       "5.0"
      ]
     },
     "execution_count": 16,
     "metadata": {},
     "output_type": "execute_result"
    }
   ],
   "source": [
    "%time g2_0_0_400.map(lambda x:dist(x[0][0],x[0][1],x[1][0],x[1][1])).filter(lambda x:x<0.01 and x>0).count()/2+g2_0_1_400.map(lambda x:dist(x[0][0],x[0][1],x[1][0],x[1][1])).filter(lambda x:x<0.01 and x>0).count()+g2_1_1_400.map(lambda x:dist(x[0][0],x[0][1],x[1][0],x[1][1])).filter(lambda x:x<0.01 and x>0).count()/2"
   ]
  },
  {
   "cell_type": "markdown",
   "id": "72ce58a7",
   "metadata": {},
   "source": [
    "## data 800개"
   ]
  },
  {
   "cell_type": "code",
   "execution_count": 17,
   "id": "37c8c8d6",
   "metadata": {},
   "outputs": [],
   "source": [
    "g2val0_800=g2tod800.map(lambda x:[(int(x[0])),[x[1],x[2]]]).groupByKey().mapValues(list).filter(lambda x:x[0]==0).flatMap(lambda x:np.array(x[1]))\n",
    "g2val1_800=g2tod800.map(lambda x:[(int(x[0])),[x[1],x[2]]]).groupByKey().mapValues(list).filter(lambda x:x[0]==1).flatMap(lambda x:np.array(x[1]))\n",
    "g2_0_0_800=g2val0_800.cartesian(g2val0_800)\n",
    "g2_0_1_800=g2val0_800.cartesian(g2val1_800)\n",
    "g2_1_1_800=g2val1_800.cartesian(g2val1_800)"
   ]
  },
  {
   "cell_type": "markdown",
   "id": "36334f16",
   "metadata": {},
   "source": [
    "data 800개일때의 threshold=0.6 이하의 거리를 가지는 순서쌍들의 개수와 실행시간 출력"
   ]
  },
  {
   "cell_type": "code",
   "execution_count": 18,
   "id": "da19f7e2",
   "metadata": {},
   "outputs": [
    {
     "name": "stdout",
     "output_type": "stream",
     "text": [
      "CPU times: user 6.86 ms, sys: 7.84 ms, total: 14.7 ms\n",
      "Wall time: 1.52 s\n"
     ]
    },
    {
     "data": {
      "text/plain": [
       "9.0"
      ]
     },
     "execution_count": 18,
     "metadata": {},
     "output_type": "execute_result"
    }
   ],
   "source": [
    "%time g2_0_0_800.map(lambda x:dist(x[0][0],x[0][1],x[1][0],x[1][1])).filter(lambda x:x<0.01 and x>0).count()/2+g2_0_1_800.map(lambda x:dist(x[0][0],x[0][1],x[1][0],x[1][1])).filter(lambda x:x<0.01 and x>0).count()+g2_1_1_800.map(lambda x:dist(x[0][0],x[0][1],x[1][0],x[1][1])).filter(lambda x:x<0.01 and x>0).count()/2"
   ]
  },
  {
   "cell_type": "markdown",
   "id": "78033de9",
   "metadata": {},
   "source": [
    "## data 1600개"
   ]
  },
  {
   "cell_type": "code",
   "execution_count": 19,
   "id": "39fbd146",
   "metadata": {},
   "outputs": [],
   "source": [
    "g2val0_1600=g2tod1600.map(lambda x:[(int(x[0])),[x[1],x[2]]]).groupByKey().mapValues(list).filter(lambda x:x[0]==0).flatMap(lambda x:np.array(x[1]))\n",
    "g2val1_1600=g2tod1600.map(lambda x:[(int(x[0])),[x[1],x[2]]]).groupByKey().mapValues(list).filter(lambda x:x[0]==1).flatMap(lambda x:np.array(x[1]))\n",
    "g2_0_0_1600=g2val0_1600.cartesian(g2val0_1600)\n",
    "g2_0_1_1600=g2val0_1600.cartesian(g2val1_1600)\n",
    "g2_1_1_1600=g2val1_1600.cartesian(g2val1_1600)"
   ]
  },
  {
   "cell_type": "markdown",
   "id": "7b5e494b",
   "metadata": {},
   "source": [
    "data 1600개일때의 threshold=0.6 이하의 거리를 가지는 순서쌍들의 개수와 실행시간 출력"
   ]
  },
  {
   "cell_type": "code",
   "execution_count": 20,
   "id": "f8908de2",
   "metadata": {},
   "outputs": [
    {
     "name": "stderr",
     "output_type": "stream",
     "text": [
      "\r",
      "[Stage 33:>                                                         (0 + 0) / 1]\r",
      "\r",
      "[Stage 33:>                                                         (0 + 1) / 1]\r"
     ]
    },
    {
     "name": "stdout",
     "output_type": "stream",
     "text": [
      "CPU times: user 8.9 ms, sys: 15.2 ms, total: 24.1 ms\n",
      "Wall time: 2.02 s\n"
     ]
    },
    {
     "name": "stderr",
     "output_type": "stream",
     "text": [
      "\r",
      "                                                                                \r"
     ]
    },
    {
     "data": {
      "text/plain": [
       "7.0"
      ]
     },
     "execution_count": 20,
     "metadata": {},
     "output_type": "execute_result"
    }
   ],
   "source": [
    "%time g2_0_0_1600.map(lambda x:dist(x[0][0],x[0][1],x[1][0],x[1][1])).filter(lambda x:x<0.01 and x>0).count()/2+g2_0_1_1600.map(lambda x:dist(x[0][0],x[0][1],x[1][0],x[1][1])).filter(lambda x:x<0.01 and x>0).count()+g2_1_1_1600.map(lambda x:dist(x[0][0],x[0][1],x[1][0],x[1][1])).filter(lambda x:x<0.01 and x>0).count()/2"
   ]
  },
  {
   "cell_type": "markdown",
   "id": "cb11b72a",
   "metadata": {},
   "source": [
    "# 블럭4개"
   ]
  },
  {
   "cell_type": "code",
   "execution_count": 21,
   "id": "990ed0ff",
   "metadata": {},
   "outputs": [],
   "source": [
    "def make4group(x):\n",
    "    if int(x[0])%4==0:\n",
    "        return np.array([0,x[1],x[2]]).tolist()\n",
    "    elif int(x[0])%4==1:\n",
    "        return np.array([1,x[1],x[2]]).tolist()\n",
    "    elif int(x[0])%4==2:\n",
    "        return np.array([2,x[1],x[2]]).tolist()\n",
    "    else:\n",
    "        return np.array([3,x[1],x[2]]).tolist()\n",
    "    \n",
    "g4tod200=sc.parallelize(create_dataset(200)).map(make2group) \n",
    "g4tod400=sc.parallelize(create_dataset(200)).map(make2group) \n",
    "g4tod800=sc.parallelize(create_dataset(200)).map(make2group)\n",
    "g4tod1600=sc.parallelize(create_dataset(200)).map(make2group)"
   ]
  },
  {
   "cell_type": "markdown",
   "id": "bfc605f7",
   "metadata": {},
   "source": [
    "## data 200개"
   ]
  },
  {
   "cell_type": "code",
   "execution_count": 22,
   "id": "2d74725c",
   "metadata": {},
   "outputs": [],
   "source": [
    "g4val0_200=g4tod200.map(lambda x:[(int(x[0])),[x[1],x[2]]]).groupByKey().mapValues(list).filter(lambda x:x[0]==0).flatMap(lambda x:np.array(x[1]))\n",
    "g4val1_200=g4tod200.map(lambda x:[(int(x[0])),[x[1],x[2]]]).groupByKey().mapValues(list).filter(lambda x:x[0]==1).flatMap(lambda x:np.array(x[1]))\n",
    "g4val2_200=g4tod200.map(lambda x:[(int(x[0])),[x[1],x[2]]]).groupByKey().mapValues(list).filter(lambda x:x[0]==2).flatMap(lambda x:np.array(x[1]))\n",
    "g4val3_200=g4tod200.map(lambda x:[(int(x[0])),[x[1],x[2]]]).groupByKey().mapValues(list).filter(lambda x:x[0]==3).flatMap(lambda x:np.array(x[1]))\n",
    "\n",
    "g2_0_1_200=g4val0_200.cartesian(g4val1_200)\n",
    "g2_0_2_200=g4val0_200.cartesian(g4val2_200)\n",
    "g2_0_3_200=g4val0_200.cartesian(g4val1_200)\n",
    "g2_1_2_200=g4val1_200.cartesian(g4val2_200)\n",
    "g2_1_3_200=g4val1_200.cartesian(g4val3_200)\n",
    "g2_2_3_200=g2_0_2_200.cartesian(g4val3_200)\n",
    "g2_0_0_200=g4val0_200.cartesian(g4val0_200)\n",
    "g2_1_1_200=g4val1_200.cartesian(g4val1_200)\n",
    "g2_2_2_200=g4val2_200.cartesian(g4val2_200)\n",
    "g2_3_3_200=g4val3_200.cartesian(g4val3_200)"
   ]
  },
  {
   "cell_type": "markdown",
   "id": "3646661f",
   "metadata": {},
   "source": [
    "data 200개일때의 threshold=0.6 이하의 거리를 가지는 순서쌍들의 개수와 실행시간 출력"
   ]
  },
  {
   "cell_type": "code",
   "execution_count": 23,
   "id": "6877c511",
   "metadata": {},
   "outputs": [
    {
     "name": "stdout",
     "output_type": "stream",
     "text": [
      "CPU times: user 21.1 ms, sys: 22.6 ms, total: 43.7 ms\n",
      "Wall time: 3.31 s\n"
     ]
    },
    {
     "data": {
      "text/plain": [
       "11.0"
      ]
     },
     "execution_count": 23,
     "metadata": {},
     "output_type": "execute_result"
    }
   ],
   "source": [
    "%time g2_0_0_200.map(lambda x:dist(x[0][0],x[0][1],x[1][0],x[1][1])).filter(lambda x:x<0.01 and x>0).count()/2+g2_1_1_200.map(lambda x:dist(x[0][0],x[0][1],x[1][0],x[1][1])).filter(lambda x:x<0.01 and x>0).count()/2+g2_2_2_200.map(lambda x:dist(x[0][0],x[0][1],x[1][0],x[1][1])).filter(lambda x:x<0.01 and x>0).count()/2+g2_3_3_200.map(lambda x:dist(x[0][0],x[0][1],x[1][0],x[1][1])).filter(lambda x:x<0.01 and x>0).count()/2+g2_0_1_200.map(lambda x:dist(x[0][0],x[0][1],x[1][0],x[1][1])).filter(lambda x:x<0.01 and x>0).count()+g2_0_2_200.map(lambda x:dist(x[0][0],x[0][1],x[1][0],x[1][1])).filter(lambda x:x<0.01 and x>0).count()+g2_0_3_200.map(lambda x:dist(x[0][0],x[0][1],x[1][0],x[1][1])).filter(lambda x:x<0.01 and x>0).count()+g2_1_2_200.map(lambda x:dist(x[0][0],x[0][1],x[1][0],x[1][1])).filter(lambda x:x<0.01 and x>0).count()+g2_1_3_200.map(lambda x:dist(x[0][0],x[0][1],x[1][0],x[1][1])).filter(lambda x:x<0.01 and x>0).count()+g2_2_3_200.map(lambda x:dist(x[0][0],x[0][1],x[1][0],x[1][1])).filter(lambda x:x<0.01 and x>0).count()"
   ]
  },
  {
   "cell_type": "markdown",
   "id": "83e5b985",
   "metadata": {},
   "source": [
    "## data 400개"
   ]
  },
  {
   "cell_type": "code",
   "execution_count": 24,
   "id": "6df58ce9",
   "metadata": {},
   "outputs": [],
   "source": [
    "g4val0_400=g4tod400.map(lambda x:[(int(x[0])),[x[1],x[2]]]).groupByKey().mapValues(list).filter(lambda x:x[0]==0).flatMap(lambda x:np.array(x[1]))\n",
    "g4val1_400=g4tod400.map(lambda x:[(int(x[0])),[x[1],x[2]]]).groupByKey().mapValues(list).filter(lambda x:x[0]==1).flatMap(lambda x:np.array(x[1]))\n",
    "g4val2_400=g4tod400.map(lambda x:[(int(x[0])),[x[1],x[2]]]).groupByKey().mapValues(list).filter(lambda x:x[0]==2).flatMap(lambda x:np.array(x[1]))\n",
    "g4val3_400=g4tod400.map(lambda x:[(int(x[0])),[x[1],x[2]]]).groupByKey().mapValues(list).filter(lambda x:x[0]==3).flatMap(lambda x:np.array(x[1]))\n",
    "\n",
    "g2_0_1_400=g4val0_400.cartesian(g4val1_400)\n",
    "g2_0_2_400=g4val0_400.cartesian(g4val2_400)\n",
    "g2_0_3_400=g4val0_400.cartesian(g4val1_400)\n",
    "g2_1_2_400=g4val1_400.cartesian(g4val2_400)\n",
    "g2_1_3_400=g4val1_400.cartesian(g4val3_400)\n",
    "g2_2_3_400=g4val2_400.cartesian(g4val3_400)\n",
    "g2_0_0_400=g4val0_400.cartesian(g4val0_400)\n",
    "g2_1_1_400=g4val1_400.cartesian(g4val1_400)\n",
    "g2_2_2_400=g4val2_400.cartesian(g4val2_400)\n",
    "g2_3_3_400=g4val3_400.cartesian(g4val3_400)"
   ]
  },
  {
   "cell_type": "markdown",
   "id": "689e59c5",
   "metadata": {},
   "source": [
    "data 400개일때의 threshold=0.6 이하의 거리를 가지는 순서쌍들의 개수와 실행시간 출력"
   ]
  },
  {
   "cell_type": "code",
   "execution_count": 26,
   "id": "357baf21",
   "metadata": {},
   "outputs": [
    {
     "name": "stderr",
     "output_type": "stream",
     "text": [
      "                                                                                \r"
     ]
    },
    {
     "name": "stdout",
     "output_type": "stream",
     "text": [
      "CPU times: user 21.4 ms, sys: 24 ms, total: 45.4 ms\n",
      "Wall time: 3.41 s\n"
     ]
    },
    {
     "data": {
      "text/plain": [
       "5.0"
      ]
     },
     "execution_count": 26,
     "metadata": {},
     "output_type": "execute_result"
    }
   ],
   "source": [
    "%time g2_0_0_400.map(lambda x:dist(x[0][0],x[0][1],x[1][0],x[1][1])).filter(lambda x:x<0.01 and x>0).count()/2+g2_1_1_400.map(lambda x:dist(x[0][0],x[0][1],x[1][0],x[1][1])).filter(lambda x:x<0.01 and x>0).count()/2+g2_2_2_400.map(lambda x:dist(x[0][0],x[0][1],x[1][0],x[1][1])).filter(lambda x:x<0.01 and x>0).count()/2+g2_3_3_400.map(lambda x:dist(x[0][0],x[0][1],x[1][0],x[1][1])).filter(lambda x:x<0.01 and x>0).count()/2+g2_0_1_400.map(lambda x:dist(x[0][0],x[0][1],x[1][0],x[1][1])).filter(lambda x:x<0.01 and x>0).count()+g2_0_2_400.map(lambda x:dist(x[0][0],x[0][1],x[1][0],x[1][1])).filter(lambda x:x<0.01 and x>0).count()+g2_0_3_400.map(lambda x:dist(x[0][0],x[0][1],x[1][0],x[1][1])).filter(lambda x:x<0.01 and x>0).count()+g2_1_2_400.map(lambda x:dist(x[0][0],x[0][1],x[1][0],x[1][1])).filter(lambda x:x<0.01 and x>0).count()+g2_1_3_400.map(lambda x:dist(x[0][0],x[0][1],x[1][0],x[1][1])).filter(lambda x:x<0.01 and x>0).count()+g2_2_3_400.map(lambda x:dist(x[0][0],x[0][1],x[1][0],x[1][1])).filter(lambda x:x<0.01 and x>0).count()"
   ]
  },
  {
   "cell_type": "markdown",
   "id": "77c5ac33",
   "metadata": {},
   "source": [
    "## data 800개"
   ]
  },
  {
   "cell_type": "code",
   "execution_count": 27,
   "id": "68fed8c5",
   "metadata": {},
   "outputs": [],
   "source": [
    "g4val0_800=g4tod800.map(lambda x:[(int(x[0])),[x[1],x[2]]]).groupByKey().mapValues(list).filter(lambda x:x[0]==0).flatMap(lambda x:np.array(x[1]))\n",
    "g4val1_800=g4tod800.map(lambda x:[(int(x[0])),[x[1],x[2]]]).groupByKey().mapValues(list).filter(lambda x:x[0]==1).flatMap(lambda x:np.array(x[1]))\n",
    "g4val2_800=g4tod800.map(lambda x:[(int(x[0])),[x[1],x[2]]]).groupByKey().mapValues(list).filter(lambda x:x[0]==2).flatMap(lambda x:np.array(x[1]))\n",
    "g4val3_800=g4tod800.map(lambda x:[(int(x[0])),[x[1],x[2]]]).groupByKey().mapValues(list).filter(lambda x:x[0]==3).flatMap(lambda x:np.array(x[1]))\n",
    "\n",
    "g2_0_1_800=g4val0_800.cartesian(g4val1_800)\n",
    "g2_0_2_800=g4val0_800.cartesian(g4val2_800)\n",
    "g2_0_3_800=g4val0_800.cartesian(g4val1_800)\n",
    "g2_1_2_800=g4val1_800.cartesian(g4val2_800)\n",
    "g2_1_3_800=g4val1_800.cartesian(g4val3_800)\n",
    "g2_2_3_800=g4val2_800.cartesian(g4val3_800)\n",
    "g2_0_0_800=g4val0_800.cartesian(g4val0_800)\n",
    "g2_1_1_800=g4val1_800.cartesian(g4val1_800)\n",
    "g2_2_2_800=g4val2_800.cartesian(g4val2_800)\n",
    "g2_3_3_800=g4val3_800.cartesian(g4val3_800)"
   ]
  },
  {
   "cell_type": "markdown",
   "id": "5b58d35f",
   "metadata": {},
   "source": [
    "data 800개일때의 threshold=0.6 이하의 거리를 가지는 순서쌍들의 개수와 실행시간 출력"
   ]
  },
  {
   "cell_type": "code",
   "execution_count": 28,
   "id": "14ce1e69",
   "metadata": {},
   "outputs": [
    {
     "name": "stdout",
     "output_type": "stream",
     "text": [
      "CPU times: user 17.8 ms, sys: 12.7 ms, total: 30.5 ms\n",
      "Wall time: 2.76 s\n"
     ]
    },
    {
     "data": {
      "text/plain": [
       "3.0"
      ]
     },
     "execution_count": 28,
     "metadata": {},
     "output_type": "execute_result"
    }
   ],
   "source": [
    "%time g2_0_0_800.map(lambda x:dist(x[0][0],x[0][1],x[1][0],x[1][1])).filter(lambda x:x<0.01 and x>0).count()/2+g2_1_1_800.map(lambda x:dist(x[0][0],x[0][1],x[1][0],x[1][1])).filter(lambda x:x<0.01 and x>0).count()/2+g2_2_2_800.map(lambda x:dist(x[0][0],x[0][1],x[1][0],x[1][1])).filter(lambda x:x<0.01 and x>0).count()/2+g2_3_3_800.map(lambda x:dist(x[0][0],x[0][1],x[1][0],x[1][1])).filter(lambda x:x<0.01 and x>0).count()/2+g2_0_1_800.map(lambda x:dist(x[0][0],x[0][1],x[1][0],x[1][1])).filter(lambda x:x<0.01 and x>0).count()+g2_0_2_800.map(lambda x:dist(x[0][0],x[0][1],x[1][0],x[1][1])).filter(lambda x:x<0.01 and x>0).count()+g2_0_3_800.map(lambda x:dist(x[0][0],x[0][1],x[1][0],x[1][1])).filter(lambda x:x<0.01 and x>0).count()+g2_1_2_800.map(lambda x:dist(x[0][0],x[0][1],x[1][0],x[1][1])).filter(lambda x:x<0.01 and x>0).count()+g2_1_3_800.map(lambda x:dist(x[0][0],x[0][1],x[1][0],x[1][1])).filter(lambda x:x<0.01 and x>0).count()+g2_2_3_800.map(lambda x:dist(x[0][0],x[0][1],x[1][0],x[1][1])).filter(lambda x:x<0.01 and x>0).count()"
   ]
  },
  {
   "cell_type": "markdown",
   "id": "b070432f",
   "metadata": {},
   "source": [
    "## 데이터 1600개"
   ]
  },
  {
   "cell_type": "code",
   "execution_count": 29,
   "id": "0ab5a122",
   "metadata": {},
   "outputs": [],
   "source": [
    "g4val0_1600=g4tod1600.map(lambda x:[(int(x[0])),[x[1],x[2]]]).groupByKey().mapValues(list).filter(lambda x:x[0]==0).flatMap(lambda x:np.array(x[1]))\n",
    "g4val1_1600=g4tod1600.map(lambda x:[(int(x[0])),[x[1],x[2]]]).groupByKey().mapValues(list).filter(lambda x:x[0]==1).flatMap(lambda x:np.array(x[1]))\n",
    "g4val2_1600=g4tod1600.map(lambda x:[(int(x[0])),[x[1],x[2]]]).groupByKey().mapValues(list).filter(lambda x:x[0]==2).flatMap(lambda x:np.array(x[1]))\n",
    "g4val3_1600=g4tod1600.map(lambda x:[(int(x[0])),[x[1],x[2]]]).groupByKey().mapValues(list).filter(lambda x:x[0]==3).flatMap(lambda x:np.array(x[1]))\n",
    "\n",
    "g2_0_1_1600=g4val0_1600.cartesian(g4val1_1600)\n",
    "g2_0_2_1600=g4val0_1600.cartesian(g4val2_1600)\n",
    "g2_0_3_1600=g4val0_1600.cartesian(g4val1_1600)\n",
    "g2_1_2_1600=g4val1_1600.cartesian(g4val2_1600)\n",
    "g2_1_3_1600=g4val1_1600.cartesian(g4val3_1600)\n",
    "g2_2_3_1600=g4val2_1600.cartesian(g4val3_1600)\n",
    "g2_0_0_1600=g4val0_1600.cartesian(g4val0_1600)\n",
    "g2_1_1_1600=g4val1_1600.cartesian(g4val1_1600)\n",
    "g2_2_2_1600=g4val2_1600.cartesian(g4val2_1600)\n",
    "g2_3_3_1600=g4val3_1600.cartesian(g4val3_1600)"
   ]
  },
  {
   "cell_type": "markdown",
   "id": "5f6129e1",
   "metadata": {},
   "source": [
    "data 1600개일때의 threshold=0.6 이하의 거리를 가지는 순서쌍들의 개수와 실행시간 출력"
   ]
  },
  {
   "cell_type": "code",
   "execution_count": 30,
   "id": "cd340031",
   "metadata": {},
   "outputs": [
    {
     "name": "stdout",
     "output_type": "stream",
     "text": [
      "CPU times: user 16.8 ms, sys: 12.8 ms, total: 29.6 ms\n",
      "Wall time: 2.28 s\n"
     ]
    },
    {
     "data": {
      "text/plain": [
       "5.0"
      ]
     },
     "execution_count": 30,
     "metadata": {},
     "output_type": "execute_result"
    }
   ],
   "source": [
    "%time g2_0_0_1600.map(lambda x:dist(x[0][0],x[0][1],x[1][0],x[1][1])).filter(lambda x:x<0.01 and x>0).count()/2+g2_1_1_1600.map(lambda x:dist(x[0][0],x[0][1],x[1][0],x[1][1])).filter(lambda x:x<0.01 and x>0).count()/2+g2_2_2_1600.map(lambda x:dist(x[0][0],x[0][1],x[1][0],x[1][1])).filter(lambda x:x<0.01 and x>0).count()/2+g2_3_3_1600.map(lambda x:dist(x[0][0],x[0][1],x[1][0],x[1][1])).filter(lambda x:x<0.01 and x>0).count()/2+g2_0_1_1600.map(lambda x:dist(x[0][0],x[0][1],x[1][0],x[1][1])).filter(lambda x:x<0.01 and x>0).count()+g2_0_2_1600.map(lambda x:dist(x[0][0],x[0][1],x[1][0],x[1][1])).filter(lambda x:x<0.01 and x>0).count()+g2_0_3_1600.map(lambda x:dist(x[0][0],x[0][1],x[1][0],x[1][1])).filter(lambda x:x<0.01 and x>0).count()+g2_1_2_1600.map(lambda x:dist(x[0][0],x[0][1],x[1][0],x[1][1])).filter(lambda x:x<0.01 and x>0).count()+g2_1_3_1600.map(lambda x:dist(x[0][0],x[0][1],x[1][0],x[1][1])).filter(lambda x:x<0.01 and x>0).count()+g2_2_3_1600.map(lambda x:dist(x[0][0],x[0][1],x[1][0],x[1][1])).filter(lambda x:x<0.01 and x>0).count()"
   ]
  },
  {
   "cell_type": "markdown",
   "id": "212e0a77",
   "metadata": {},
   "source": [
    "# Time plot"
   ]
  },
  {
   "cell_type": "markdown",
   "id": "fff17669",
   "metadata": {},
   "source": [
    "위의 결과값들을 토대로 작성한 타임플롯입니다."
   ]
  },
  {
   "cell_type": "code",
   "execution_count": 16,
   "id": "24a1ece7",
   "metadata": {},
   "outputs": [
    {
     "data": {
      "image/png": "[encoded data removed]",
      "text/plain": [
       "<Figure size 432x288 with 1 Axes>"
      ]
     },
     "metadata": {
      "needs_background": "light"
     },
     "output_type": "display_data"
    }
   ],
   "source": [
    "import matplotlib.pyplot as plt\n",
    "plt.title('Time plot',size=15)\n",
    "plt.xlabel('input size')\n",
    "plt.ylabel('time')\n",
    "plt.plot([0,200,400,800,1600],[0,0.184,0.266,0.737,2.81], 'r',label='# of group=1')\n",
    "plt.plot([0,200,400,800,1600],[0,1.26,1.41,1.51,2.01], 'b',label='# of group=2')\n",
    "plt.plot([0,200,400,800,1600],[0,3.31,3.41,2.76,2.28], 'g',label='# of group=4')\n",
    "\n",
    "plt.legend(fontsize=13)\n",
    "plt.show()"
   ]
  },
  {
   "cell_type": "markdown",
   "id": "7d3fdc13",
   "metadata": {},
   "source": [
    "그룹의 개수가 클수록 감소하는 기울기의 음수의 절대값이 더 크기때문에 인풋사이즈를 더 늘려준다면 group이 1개일때 제일 오래걸리고 그룹의 개수가 많아질수록 적게 걸리는 타임플롯이 나올거라고 생각합니다."
   ]
  },
  {
   "cell_type": "code",
   "execution_count": null,
   "id": "fdbed9ee",
   "metadata": {},
   "outputs": [],
   "source": []
  }
 ],
 "metadata": {
  "kernelspec": {
   "display_name": "빅데이터처리",
   "language": "python",
   "name": "bigdata"
  },
  "language_info": {
   "codemirror_mode": {
    "name": "ipython",
    "version": 3
   },
   "file_extension": ".py",
   "mimetype": "text/x-python",
   "name": "python",
   "nbconvert_exporter": "python",
   "pygments_lexer": "ipython3",
   "version": "3.9.8"
  }
 },
 "nbformat": 4,
 "nbformat_minor": 5
}
