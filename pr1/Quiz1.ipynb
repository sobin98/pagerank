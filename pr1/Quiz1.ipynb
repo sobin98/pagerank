{
 "cells": [
  {
   "cell_type": "markdown",
   "id": "69f7d5cb",
   "metadata": {},
   "source": [
    "# Quiz 1"
   ]
  },
  {
   "cell_type": "code",
   "execution_count": 1,
   "id": "aa2b0b60",
   "metadata": {},
   "outputs": [
    {
     "name": "stderr",
     "output_type": "stream",
     "text": [
      "21/10/28 21:55:18 WARN Utils: Your hostname, jeongsobin-ui-MacBookPro.local resolves to a loopback address: 127.0.0.1; using 172.30.1.53 instead (on interface en0)\n",
      "21/10/28 21:55:18 WARN Utils: Set SPARK_LOCAL_IP if you need to bind to another address\n",
      "WARNING: An illegal reflective access operation has occurred\n",
      "WARNING: Illegal reflective access by org.apache.spark.unsafe.Platform (file:/opt/homebrew/Cellar/apache-spark/3.1.2/libexec/jars/spark-unsafe_2.12-3.1.2.jar) to constructor java.nio.DirectByteBuffer(long,int)\n",
      "WARNING: Please consider reporting this to the maintainers of org.apache.spark.unsafe.Platform\n",
      "WARNING: Use --illegal-access=warn to enable warnings of further illegal reflective access operations\n",
      "WARNING: All illegal access operations will be denied in a future release\n",
      "21/10/28 21:55:19 WARN NativeCodeLoader: Unable to load native-hadoop library for your platform... using builtin-java classes where applicable\n",
      "Using Spark's default log4j profile: org/apache/spark/log4j-defaults.properties\n",
      "Setting default log level to \"WARN\".\n",
      "To adjust logging level use sc.setLogLevel(newLevel). For SparkR, use setLogLevel(newLevel).\n"
     ]
    }
   ],
   "source": [
    "import findspark\n",
    "import time\n",
    "findspark.init()\n",
    "\n",
    "from pyspark import SparkContext\n",
    "sc=SparkContext(\"local\",\"quiz1\")"
   ]
  },
  {
   "cell_type": "code",
   "execution_count": 2,
   "id": "35eb5fbe",
   "metadata": {},
   "outputs": [],
   "source": [
    "def flat(x):\n",
    "    index1=x[0].find(',')\n",
    "    index2=x[0].find(',',index1+1)\n",
    "    index3=x[0].find(',',index2+1)\n",
    "    list_1=[x[0][:index1],x[0][index1+1:index2],x[0][index2+1:index3],x[0][index3+1:]]\n",
    "    \n",
    "    return list_1\n",
    "\n",
    "M_A1600x800=sc.textFile(\"matrix/A1600x800.txt\").map(lambda line:line.split(\"\\n\")).map(flat)\n",
    "M_A200x100=sc.textFile(\"matrix/A200x100.txt\").map(lambda line:line.split(\"\\n\")).map(flat)\n",
    "M_A3200x1600=sc.textFile(\"matrix/A3200x1600.txt\").map(lambda line:line.split(\"\\n\")).map(flat)\n",
    "M_A400x200=sc.textFile(\"matrix/A400x200.txt\").map(lambda line:line.split(\"\\n\")).map(flat)\n",
    "M_A800x400=sc.textFile(\"matrix/A800x400.txt\").map(lambda line:line.split(\"\\n\")).map(flat)\n",
    "M_B100x10=sc.textFile(\"matrix/B100x10.txt\").map(lambda line:line.split(\"\\n\")).map(flat)\n",
    "M_B1600x160=sc.textFile(\"matrix/B1600x160.txt\").map(lambda line:line.split(\"\\n\")).map(flat)\n",
    "M_B200x20=sc.textFile(\"matrix/B200x20.txt\").map(lambda line:line.split(\"\\n\")).map(flat)\n",
    "M_B400x40=sc.textFile(\"matrix/B400x40.txt\").map(lambda line:line.split(\"\\n\")).map(flat)\n",
    "M_B800x80=sc.textFile(\"matrix/B800x80.txt\").map(lambda line:line.split(\"\\n\")).map(flat)\n"
   ]
  },
  {
   "cell_type": "code",
   "execution_count": 3,
   "id": "54a18290",
   "metadata": {},
   "outputs": [],
   "source": [
    "def a100(x):\n",
    "    output=[]\n",
    "    for i in range(100):\n",
    "        output.append([(int(x[1]),i),(int(x[2]),int(x[3]))])\n",
    "    return output\n",
    "def b100(x):\n",
    "    output=[]\n",
    "    for i in range(100):\n",
    "        output.append([(i,int(x[2])),(int(x[1]),int(x[3]))])\n",
    "    return output\n",
    "\n",
    "def a200(x):\n",
    "    output=[]\n",
    "    for i in range(200):\n",
    "        output.append([(int(x[1]),i),(int(x[2]),int(x[3]))])\n",
    "    return output\n",
    "def b200(x):\n",
    "    output=[]\n",
    "    for i in range(200):\n",
    "        output.append([(i,int(x[2])),(int(x[1]),int(x[3]))])\n",
    "    return output\n",
    "\n",
    "def a400(x):\n",
    "    output=[]\n",
    "    for i in range(400):\n",
    "        output.append([(int(x[1]),i),(int(x[2]),int(x[3]))])\n",
    "    return output\n",
    "def b400(x):\n",
    "    output=[]\n",
    "    for i in range(400):\n",
    "        output.append([(i,int(x[2])),(int(x[1]),int(x[3]))])\n",
    "    return output\n",
    "\n",
    "def a800(x):\n",
    "    output=[]\n",
    "    for i in range(800):\n",
    "        output.append([(int(x[1]),i),(int(x[2]),int(x[3]))])\n",
    "    return output\n",
    "def b800(x):\n",
    "    output=[]\n",
    "    for i in range(800):\n",
    "        output.append([(i,int(x[2])),(int(x[1]),int(x[3]))])\n",
    "    return output\n",
    "\n",
    "def a1600(x):\n",
    "    output=[]\n",
    "    for i in range(1600):\n",
    "        output.append([(int(x[1]),i),(int(x[2]),int(x[3]))])\n",
    "    return output\n",
    "def b1600(x):\n",
    "    output=[]\n",
    "    for i in range(1600):\n",
    "        output.append([(i,int(x[2])),(int(x[1]),int(x[3]))])\n",
    "    return output\n",
    "\n",
    "\n",
    "matrix200x10=M_A200x100.flatMap(a100)+M_B100x10.flatMap(b100)\n",
    "matrix400x20=M_A400x200.flatMap(a200)+M_B200x20.flatMap(b200)\n",
    "matrix800x40=M_A800x400.flatMap(a400)+M_B400x40.flatMap(b400)\n",
    "matrix1600x80=M_A1600x800.flatMap(a800)+M_B800x80.flatMap(b800)\n",
    "matrix3200x160=M_A3200x1600.flatMap(a1600)+M_B1600x160.flatMap(b1600)"
   ]
  },
  {
   "cell_type": "code",
   "execution_count": 4,
   "id": "110dc691",
   "metadata": {},
   "outputs": [],
   "source": [
    "def output(x):\n",
    "    temp={}\n",
    "    for i,j in x:\n",
    "        if i not in temp:\n",
    "            temp[i]=j\n",
    "        else:\n",
    "            temp[i]=temp[i]*j\n",
    "        \n",
    "    return sum(list(temp.values()))"
   ]
  },
  {
   "cell_type": "code",
   "execution_count": 5,
   "id": "64267605",
   "metadata": {},
   "outputs": [
    {
     "name": "stderr",
     "output_type": "stream",
     "text": [
      "/opt/homebrew/Cellar/apache-spark/3.1.2/libexec/python/lib/pyspark.zip/pyspark/shuffle.py:60: UserWarning: Please install psutil to have better support with spilling\n",
      "/opt/homebrew/Cellar/apache-spark/3.1.2/libexec/python/lib/pyspark.zip/pyspark/shuffle.py:60: UserWarning: Please install psutil to have better support with spilling\n",
      "                                                                                \r"
     ]
    }
   ],
   "source": [
    "start_200x10= time.time()\n",
    "m200x10_result=matrix200x10.groupByKey().mapValues(list).mapValues(output).map(lambda x:('matrix200x10',x[1])).reduceByKey(lambda x,y:x+y).collect()\n",
    "end_200x10 = time.time()\n",
    "timer_200x10=end_200x10-start_200x10"
   ]
  },
  {
   "cell_type": "code",
   "execution_count": 6,
   "id": "e5f0dce7",
   "metadata": {},
   "outputs": [
    {
     "name": "stderr",
     "output_type": "stream",
     "text": [
      "                                                                                \r"
     ]
    }
   ],
   "source": [
    "start_400x20= time.time()\n",
    "m400x20_result=matrix400x20.groupByKey().mapValues(list).mapValues(output).map(lambda x:('matrix400x20',x[1])).reduceByKey(lambda x,y:x+y).collect()\n",
    "end_400x20 = time.time()\n",
    "timer_400x20=end_400x20-start_400x20"
   ]
  },
  {
   "cell_type": "code",
   "execution_count": 7,
   "id": "27f718b4",
   "metadata": {},
   "outputs": [
    {
     "name": "stderr",
     "output_type": "stream",
     "text": [
      "                                                                                \r"
     ]
    }
   ],
   "source": [
    "start_800x40= time.time()\n",
    "m800x40_result=matrix800x40.groupByKey().mapValues(list).mapValues(output).map(lambda x:('matrix800x40',x[1])).reduceByKey(lambda x,y:x+y).collect()\n",
    "end_800x40 = time.time()\n",
    "timer_800x40=end_800x40-start_800x40"
   ]
  },
  {
   "cell_type": "code",
   "execution_count": null,
   "id": "60d3be85",
   "metadata": {},
   "outputs": [
    {
     "name": "stderr",
     "output_type": "stream",
     "text": [
      "[Stage 9:>    (0 + 1) / 2][Stage 12:>   (0 + 0) / 2][Stage 15:>   (0 + 0) / 2]\r"
     ]
    }
   ],
   "source": [
    "start_1600x80= time.time()\n",
    "m1600x80_result=matrix1600x80.groupByKey().mapValues(list).mapValues(output).map(lambda x:('matrix1600x80',x[1])).reduceByKey(lambda x,y:x+y).collect()\n",
    "end_1600x80 = time.time()\n",
    "timer_1600x80=end_1600x80-start_1600x80"
   ]
  },
  {
   "cell_type": "code",
   "execution_count": null,
   "id": "7c6017e4",
   "metadata": {},
   "outputs": [],
   "source": [
    "start_3200x160= time.time()\n",
    "m3200x160_result=matrix3200x160.groupByKey().mapValues(list).mapValues(output).map(lambda x:('matrix3200x160',x[1])).reduceByKey(lambda x,y:x+y).collect()\n",
    "end_3200x160 = time.time()\n",
    "timer_3200x160=end_3200x160-start_3200x160"
   ]
  },
  {
   "cell_type": "markdown",
   "id": "3397d45b",
   "metadata": {},
   "source": [
    "# Result & Time plot"
   ]
  },
  {
   "cell_type": "code",
   "execution_count": 81,
   "id": "c7182dfe",
   "metadata": {},
   "outputs": [],
   "source": [
    "timer_1600x80=108000\n",
    "timer_3200x160=1000000\n",
    "\n",
    "m1600x80_result=[('matrix1600x80', 'temp1')]\n",
    "m3200x160_result=[('matrix3200x160', 'temp2')]\n",
    "\n",
    "#매트릭스가 1600x80일때와 3200x160일때 데이터가 너무 커서인지 연산속도가 몇시간이 지나도록 측정되지 않아\n",
    "#두값만 임의로 지정해서 진행하였습니다."
   ]
  },
  {
   "cell_type": "code",
   "execution_count": 82,
   "id": "1a82146c",
   "metadata": {},
   "outputs": [],
   "source": [
    "import pandas as pd\n",
    "finalresult = pd.DataFrame(data=[[m200x10_result[0][1],timer_200x10],\n",
    "                                 [m400x20_result[0][1],timer_400x20],\n",
    "                                 [m800x40_result[0][1],timer_800x40],\n",
    "                                 [m1600x80_result[0][1],timer_1600x80],\n",
    "                                 [m3200x160_result[0][1],timer_3200x160]],\n",
    "                        index=['M200x10', 'M400x20', 'M800x40', 'M1600x80', 'M3200x160'], \n",
    "                           columns=['result','time(s)'])"
   ]
  },
  {
   "cell_type": "code",
   "execution_count": 83,
   "id": "2b1a151d",
   "metadata": {},
   "outputs": [],
   "source": [
    "finalresult=finalresult.transpose()"
   ]
  },
  {
   "cell_type": "code",
   "execution_count": 84,
   "id": "5d140a73",
   "metadata": {},
   "outputs": [
    {
     "data": {
      "text/html": [
       "<div>\n",
       "<style scoped>\n",
       "    .dataframe tbody tr th:only-of-type {\n",
       "        vertical-align: middle;\n",
       "    }\n",
       "\n",
       "    .dataframe tbody tr th {\n",
       "        vertical-align: top;\n",
       "    }\n",
       "\n",
       "    .dataframe thead th {\n",
       "        text-align: right;\n",
       "    }\n",
       "</style>\n",
       "<table border=\"1\" class=\"dataframe\">\n",
       "  <thead>\n",
       "    <tr style=\"text-align: right;\">\n",
       "      <th></th>\n",
       "      <th>M200x10</th>\n",
       "      <th>M400x20</th>\n",
       "      <th>M800x40</th>\n",
       "      <th>M1600x80</th>\n",
       "      <th>M3200x160</th>\n",
       "    </tr>\n",
       "  </thead>\n",
       "  <tbody>\n",
       "    <tr>\n",
       "      <th>result</th>\n",
       "      <td>-109161</td>\n",
       "      <td>-414457</td>\n",
       "      <td>1199505</td>\n",
       "      <td>temp1</td>\n",
       "      <td>temp2</td>\n",
       "    </tr>\n",
       "    <tr>\n",
       "      <th>time(s)</th>\n",
       "      <td>4.276585</td>\n",
       "      <td>46.995375</td>\n",
       "      <td>617.183883</td>\n",
       "      <td>108000.0</td>\n",
       "      <td>1000000.0</td>\n",
       "    </tr>\n",
       "  </tbody>\n",
       "</table>\n",
       "</div>"
      ],
      "text/plain": [
       "          M200x10    M400x20     M800x40  M1600x80  M3200x160\n",
       "result    -109161    -414457     1199505     temp1      temp2\n",
       "time(s)  4.276585  46.995375  617.183883  108000.0  1000000.0"
      ]
     },
     "execution_count": 84,
     "metadata": {},
     "output_type": "execute_result"
    }
   ],
   "source": [
    "finalresult"
   ]
  },
  {
   "cell_type": "code",
   "execution_count": 86,
   "id": "ce3ae124",
   "metadata": {},
   "outputs": [
    {
     "data": {
      "image/png": "[encoded data removed]",
      "text/plain": [
       "<Figure size 432x288 with 1 Axes>"
      ]
     },
     "metadata": {
      "needs_background": "light"
     },
     "output_type": "display_data"
    }
   ],
   "source": [
    "import matplotlib.pyplot as plt\n",
    "plt.title('Time plot',size=15)\n",
    "plt.xlabel('input size')\n",
    "plt.ylabel('time')\n",
    "plt.plot([0,200*100+100*10,3200*1600+1600*160],[0,finalresult['M200x10'][1],(3200*1600+1600*160)/finalresult['M3200x160'][1]*(200*100+100*10)], 'r',label='M200x10')\n",
    "plt.plot([0,400*200+200*20,3200*1600+1600*160],[0,finalresult['M400x20'][1],(3200*1600+1600*160)/finalresult['M3200x160'][1]*(400*200+200*20)], 'b',label='M400x20')\n",
    "plt.plot([0,800*400+400*40,3200*1600+1600*160],[0,finalresult['M800x40'][1],(3200*1600+1600*160)/finalresult['M3200x160'][1]*(800*400+400*40)], 'g',label='M800x40')\n",
    "#plt.plot([0,1600*800+800*80,3200*1600+1600*160],[0,finalresult['M1600x80'][1],(3200*1600+1600*160)/finalresult['M3200x160'][1]*(1600*800+800*80)], 'c',label='M1600x80')\n",
    "#plt.plot([0,3200*1600+1600*160],[0,finalresult['M3200x160'][1]], 'm',label='M3200x160')\n",
    "plt.legend(fontsize=13)\n",
    "plt.show()"
   ]
  },
  {
   "cell_type": "code",
   "execution_count": null,
   "id": "60e5249e",
   "metadata": {},
   "outputs": [],
   "source": []
  }
 ],
 "metadata": {
  "kernelspec": {
   "display_name": "빅데이터처리",
   "language": "python",
   "name": "bigdata"
  },
  "language_info": {
   "codemirror_mode": {
    "name": "ipython",
    "version": 3
   },
   "file_extension": ".py",
   "mimetype": "text/x-python",
   "name": "python",
   "nbconvert_exporter": "python",
   "pygments_lexer": "ipython3",
   "version": "3.9.10"
  }
 },
 "nbformat": 4,
 "nbformat_minor": 5
}
